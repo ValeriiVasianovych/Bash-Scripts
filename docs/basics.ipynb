{
 "cells": [
  {
   "cell_type": "markdown",
   "metadata": {},
   "source": [
    "# Basics of Bash Scripting"
   ]
  },
  {
   "cell_type": "markdown",
   "metadata": {},
   "source": [
    "Here’s a roadmap for learning Bash scripting, starting from the basics and progressing to more advanced topics, tailored for a system administrator and DevOps engineer.\n",
    "\n",
    "### 1. **Introduction to Bash and the Command Line**\n",
    "   - Basic UNIX/Linux commands: `ls`, `cd`, `pwd`, `cp`, `mv`, `rm`, `touch`, `cat`, `echo`, `grep`, `find`, `chmod`, `chown`, etc.\n",
    "   - Understanding the terminal and the shell (Shell)\n",
    "   - Basics of navigating the file system\n",
    "   - Input/output redirection: `>`, `>>`, `<`, `|`\n",
    "   - Environment variables and user-defined variables\n",
    "   - Basics of working with text editors (e.g., Vim or Nano)\n",
    "\n",
    "### 2. **Basics of Bash Scripting**\n",
    "   - Creating and running simple Bash scripts\n",
    "   - Basic syntax: comments, commands, variables\n",
    "   - Understanding the interpreter and shebang (`#!/bin/bash`)\n",
    "   - Working with variables: assigning values, using variables\n",
    "   - Introduction to command-line arguments and positional parameters (`$0`, `$1`, etc.)\n",
    "   - Basic input/output commands: `echo`, `read`\n",
    "\n",
    "### 3. **Flow Control and Conditional Constructs**\n",
    "   - Conditional operators: `if`, `else`, `elif`\n",
    "   - Using `test` and `[ ]` for comparisons\n",
    "   - Conditional expressions: file and directory checks, string comparisons\n",
    "   - Logical operators: `&&`, `||`\n",
    "   - Case statements: `case ... esac`\n",
    "\n",
    "### 4. **Loops and Iterations**\n",
    "   - `for` loop: iterating over lists, arrays, command outputs\n",
    "   - `while` and `until` loops: executing commands until a condition is met\n",
    "   - Using `break` and `continue` commands\n",
    "   - Introduction to arrays: creating and accessing elements\n",
    "\n",
    "### 5. **Functions and Modules**\n",
    "   - Creating and using functions in Bash\n",
    "   - Passing parameters to functions\n",
    "   - Local and global variables\n",
    "   - Returning values from functions\n",
    "   - Sourcing and using external scripts (`source`, `.`)\n",
    "\n",
    "### 6. **Working with Files and Text**\n",
    "   - Reading files and processing data line by line\n",
    "   - Stream editors: `sed`, `awk`\n",
    "   - Using regular expressions\n",
    "   - Text substitution and filtering\n",
    "   - Generating and processing reports\n",
    "\n",
    "### 7. **Advanced Process Management**\n",
    "   - Managing processes: background execution (`&`), priorities (`nice`, `renice`)\n",
    "   - Job control: `jobs`, `fg`, `bg`, `kill`\n",
    "   - Using commands like `ps`, `top`, `htop` for process monitoring\n",
    "   - Trap signals and signal handling: `trap`, `kill`, `SIGINT`, `SIGTERM`\n",
    "\n",
    "### 8. **Networking**\n",
    "   - Basic network commands: `ping`, `netstat`, `ifconfig`, `ip`, `curl`, `wget`\n",
    "   - Automating network tasks with scripts\n",
    "   - Basics of interacting with APIs and web services using `curl` and `wget`\n",
    "   - Analyzing logs and gathering data from remote servers\n",
    "\n",
    "### 9. **Automation and Task Scheduling**\n",
    "   - Task scheduling with cron: crontab, cron syntax\n",
    "   - Automating backups and data recovery\n",
    "   - Writing scripts for monitoring and alerts\n",
    "   - Integration with monitoring and notification systems (e.g., Zabbix, Nagios, Slack, Telegram)\n",
    "\n",
    "### 10. **Security and Best Practices**\n",
    "   - Handling data from untrusted sources: validation and filtering\n",
    "   - Managing script access: permissions, `sudo`\n",
    "   - Secure storage and transmission of sensitive information\n",
    "   - Logs and rotation, working with `logrotate`\n",
    "   - Writing secure scripts: error handling, avoiding vulnerabilities\n",
    "\n",
    "### 11. **Advanced Bash Scripting Techniques**\n",
    "   - Asynchronous tasks and parallel execution of scripts\n",
    "   - Optimizing Bash script performance\n",
    "   - Using `xargs`, `parallel` for parallel data processing\n",
    "   - Introduction to working with Docker and containers through scripts\n",
    "   - Integration with CI/CD pipelines (e.g., GitLab CI, Jenkins)\n",
    "\n",
    "### 12. **Real Projects and Practical Application**\n",
    "   - Writing scripts for real-world system administration and DevOps tasks\n",
    "   - Automating deployment and environment setup\n",
    "   - Creating scripts for monitoring and resource management\n",
    "   - Introduction to Bash libraries and their use (e.g., bash-it)\n",
    "   - Contributing to Open Source projects related to Bash\n",
    "\n",
    "This roadmap can be adjusted or expanded based on specific goals and the current level of knowledge. The key is to follow the sequence and practice on real tasks."
   ]
  },
  {
   "cell_type": "markdown",
   "metadata": {},
   "source": [
    "## 1. Introduction to Bash and the Command Line\n",
    "Bash is a Unix shell and command language that is widely used in the Linux ecosystem. It provides a command-line interface to interact with the operating system and execute commands. Understanding basic Unix/Linux commands and the terminal is essential for working with Bash scripts.\n",
    "\n",
    "### Basic UNIX/Linux Commands\n",
    "1. `ls`: List directory contents `ls -l`, `ls -a`, `ls -1` \n",
    "2. `cd`: Change directory `cd /path/to/directory`\n",
    "3. `pwd`: Print working directory\n",
    "4. `cp`: Copy files and directories `cp file1 file2`, `cp -r dir1 dir2`\n",
    "5. `mv`: Move or rename files and directories `mv file1 file2`, `mv dir1 dir2`\n",
    "6. `rm`: Remove files and directories `rm file1`, `rm -r dir1`\n",
    "7. `touch`: Create an empty file `touch file`\n",
    "8. `cat`: Concatenate and display file content `cat file`\n",
    "9. `echo`: Display a line of text `echo \"Hello, World!\"`\n",
    "10. `grep`: Search text using patterns `grep pattern file`\n",
    "11. `find`: Search files and directories `find /path -name filename`\n",
    "12. `chmod`: Change file permissions `chmod 755 file`\n",
    "13. `chown`: Change file owner and group `chown user:group file`\n",
    "14. `man`: Display manual pages `man command`\n",
    "15. `history`: Display command history\n",
    "16. `clear`: Clear the terminal screen\n",
    "17. `exit`: Exit the shell\n",
    "18. `sudo`: Execute a command as a superuser\n",
    "19. `su`: Switch user or become superuser\n",
    "20. `df`: Display disk space usage\n",
    "21. `du`: Display directory space usage\n",
    "22. `tar`: Archive files `tar -cvf archive.tar file1 file2`\n",
    "23. `zip`: Compress files `zip archive.zip file1 file2`\n",
    "24. `unzip`: Extract files from a zip archive `unzip archive.zip`\n",
    "25. `wget`: Download files from the web `wget URL`\n",
    "26. `curl`: Transfer data with URLs `curl URL`\n",
    "27. `ps`: Display process status `ps aux`\n",
    "28. `kill`: Terminate processes `kill PID`\n",
    "29. `top`: Display system processes\n",
    "30. `htop`: Interactive process viewer\n",
    "31. `ifconfig`: Configure network interfaces\n",
    "32. `ping`: Test network connectivity `ping host`\n",
    "33. `netstat`: Display network connections `netstat -tuln`\n",
    "34. `ip`: Show / manipulate routing, devices, policy routing and tunnels\n",
    "35. `nano`: Text editor for the terminal\n",
    "36. `vim`: Advanced text editor for the terminal\n",
    "37. `less`: Display file contents one page at a time\n",
    "38. `more`: Display file contents one page at a time\n",
    "39. `head`: Display the beginning of a file `head file`\n",
    "40. `tail`: Display the end of a file `tail file`\n",
    "41. `sed`: Stream editor for filtering and transforming text\n",
    "42. `awk`: Pattern scanning and processing language"
   ]
  },
  {
   "cell_type": "code",
   "execution_count": 9,
   "metadata": {
    "vscode": {
     "languageId": "shellscript"
    }
   },
   "outputs": [
    {
     "name": "stdout",
     "output_type": "stream",
     "text": [
      "2\n"
     ]
    }
   ],
   "source": [
    "# Example of usage find commands\n",
    "# The find command works recursively, so it will search for the file in all subdirectories of the current directory.\n",
    "# Start searching from the root directory you will can search in all directories of the system.\n",
    "\n",
    "Parameters for the find command:\n",
    "-name: search for files by name.\n",
    "-type: search for files by type.\n",
    "-d: search for directories.\n",
    "-f: search for files.\n",
    "\n",
    "find ~/ -name \"code\" -type d"
   ]
  },
  {
   "cell_type": "code",
   "execution_count": null,
   "metadata": {
    "vscode": {
     "languageId": "shellscript"
    }
   },
   "outputs": [],
   "source": [
    "# Example of usage chown command\n",
    "# The chown command is used to change the owner of a file or directory.\n",
    "chown user:group file or directory\n",
    "\n",
    "# Now the owner of the project directory is fred and the group is developers.\n",
    "chown fred:developers /home/fred/project "
   ]
  },
  {
   "cell_type": "code",
   "execution_count": null,
   "metadata": {
    "vscode": {
     "languageId": "shellscript"
    }
   },
   "outputs": [],
   "source": [
    "# Example of usage sed command\n",
    "# The sed command is used to replace text in a file.\n",
    "# Some examples of usage of the sed command\n",
    "\n",
    "# Text replacement in a file.\n",
    "sed 's/old-text/new-text/' file.txt # This command will replace the first occurrence of the string \"old-text\" with \"new-text\" in the file.txt file.\n",
    "\n",
    "# Delete line with text in file.\n",
    "sed '3d' file.txt # Delete the third line of the file.\n",
    "sed '/This string will be deleted/d' file.txt # Delete the line with the text \"This string will be deleted\".\n",
    "\n",
    "# Show 3, 4 and 5 lines of the file.\n",
    "sed -n '3,5p' file.txt\n",
    "\n",
    "# Show all lines except 3, 4 and 5 lines of the file.\n",
    "sed '3,5d' file.txt\n",
    "\n",
    "# Change file content in place.\n",
    "sed -i 's/old-text/new-text/' file.txt # This command will change string in file.txt immediately."
   ]
  },
  {
   "cell_type": "code",
   "execution_count": null,
   "metadata": {
    "vscode": {
     "languageId": "shellscript"
    }
   },
   "outputs": [],
   "source": [
    "# Example of usage grep command\n",
    "\n",
    "# The grep command is used to search for text in files.\n",
    "# Some examples of usage of the grep command\n",
    "\n",
    "# Search for the word \"example\" in the file.txt file.\n",
    "grep example file.txt\n",
    "\n",
    "# Search for the word \"example\" in all files in the current directory.\n",
    "grep example *\n",
    "\n",
    "# Search for the word \"example\" in all files in the current directory and subdirectories.\n",
    "grep -r example *\n",
    "\n",
    "# Search for the word \"example\" in all files in the current directory and subdirectories, ignoring case.\n",
    "grep -ri example *\n",
    "\n",
    "# Search for the word \"example\" in all files in the current directory and subdirectories, ignoring case and showing line number.\n",
    "grep -rin example *\n",
    "\n",
    "# Show files that contain the word \"example\" or \"test\".\n",
    "grep -l 'example\\|test' *\n",
    "\n",
    "# Show grep -E that contain the word \"example\" or \"test\".\n",
    "grep -E 'example|test' *\n",
    "\n",
    "# Show files with numbers.\n",
    "grep '^[0-9]+$' file.txt # This command will show all lines with numbers in the file.txt file.\n",
    "\n",
    "# Show files with numbers and letters.\n",
    "grep '^[0-9a-zA-Z]+$' file.txt # This command will show all lines with numbers and letters in the file.txt file.\n",
    "\n",
    "'^' - start of line\n",
    "'$' - end of line\n",
    "'.' - any character\n",
    "'*' - zero or more of the previous character\n",
    "'+' - one or more of the previous character\n",
    "'?' - zero or one of the previous character\n",
    "'[]' - any character inside the brackets\n",
    "'[^]' - any character not inside the brackets\n",
    "'\\d' - any digit\n",
    "'\\D' - any non-digit"
   ]
  },
  {
   "cell_type": "code",
   "execution_count": null,
   "metadata": {
    "vscode": {
     "languageId": "shellscript"
    }
   },
   "outputs": [],
   "source": [
    "# Example of usage awk command\n",
    "# The awk command is used to manipulate text files.\n",
    "# Some examples of usage of the awk command\n",
    "# Print the first column of the file.txt file.\n",
    "awk '{print $1}' file.txt\n",
    "\n",
    "# Print the first and second columns of the file.txt file.\n",
    "awk '{print $1, $2}' file.txt\n",
    "\n",
    "# Condition print the first column of the file.txt file.\n",
    "awk '$2 > 100 {print $0}' file.txt\n",
    "\n",
    "# Different separator print the first column of the file.txt file.\n",
    "awk -F ',' '{print $1, $2}' file.csv\n",
    "\n",
    "# Combine awk with other commands.\n",
    "awk '{print $1}' file.txt | sort | uniq # This command will print the first column of the file.txt file, sort it and remove duplicates."
   ]
  },
  {
   "cell_type": "code",
   "execution_count": 1,
   "metadata": {
    "vscode": {
     "languageId": "shellscript"
    }
   },
   "outputs": [
    {
     "name": "stdout",
     "output_type": "stream",
     "text": [
      "Hello, World!\n",
      "Hello, World!\n",
      "file.txt\n",
      "ls: cannot access '/nonexistent': No such file or directory\n"
     ]
    }
   ],
   "source": [
    "# Types of redirection in BASH\n",
    "\n",
    "# > - redirect output to a file.\n",
    "# >> - append output to a file.\n",
    "# < - redirect input from a file.\n",
    "# | - redirect output to another command.\n",
    "\n",
    "\n",
    "echo \"Hello, World!\" > file.txt # Redirect output to a file.\n",
    "echo \"Hello, World!\" >> file.txt # Append output to a file.\n",
    "cat < file.txt # Redirect input from a file.\n",
    "ls | grep txt # Redirect output to another command.\n",
    "\n",
    "# More complicated redirections\n",
    "\n",
    "# Redirect output and error to a file.\n",
    "ls /nonexistent 2>&1 > file.txt # This command will redirect the output and error of the ls /nonexistent command to the file.txt file.\n",
    "\n",
    "# Using < to redirect input from a file.\n",
    "grep example < file.txt # This command will search for the word \"example\" in the file.txt file.\n",
    "\n",
    "cat <<EOF > index.html\n",
    "<!DOCTYPE html>\n",
    "<html lang=\"en\">\n",
    "<head>\n",
    "    <meta charset=\"UTF-8\">\n",
    "    <meta name=\"viewport\" content=\"width=device-width, initial-scale=1.0\">\n",
    "    <title>My First Web Page</title>\n",
    "</head>\n",
    "<body>\n",
    "    <h1>Welcome to My First Web Page</h1>\n",
    "    <p>This is an example paragraph in the body of the HTML document.</p>\n",
    "</body>\n",
    "</html>\n",
    "EOF\n",
    "\n",
    "# Pipe commands\n",
    "\n",
    "# The pipe command is used to pass the output of one command as input to another command.\n",
    "\n",
    "ls | grep txt"
   ]
  }
 ],
 "metadata": {
  "kernelspec": {
   "display_name": "Bash",
   "language": "bash",
   "name": "bash"
  },
  "language_info": {
   "codemirror_mode": "shell",
   "file_extension": ".sh",
   "mimetype": "text/x-sh",
   "name": "bash"
  }
 },
 "nbformat": 4,
 "nbformat_minor": 2
}
